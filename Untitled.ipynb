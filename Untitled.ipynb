{
  "cells": [
    {
      "cell_type": "markdown",
      "metadata": {},
      "source": [
        "#!/usr/bin/env python\n",
        "# coding: utf-8\n",
        "\n",
        "# In[9]:\n",
        "\n",
        "\n",
        "from pprint import pformat\n",
        "import pyodide_http\n",
        "from shiny import App, reactive, render, ui\n",
        "import requests\n",
        "pyodide_http.patch_all()\n",
        "\n",
        "app_ui = ui.page_fluid(\n",
        "    ui.input_selectize(\n",
        "        \"selection\",\n",
        "        \"choisir selection\",\n",
        "        [\n",
        "            \"pres\",\"nom\"\n",
        "        ],\n",
        "    ),\n",
        "    ui.output_text_verbatim(\"info\"),\n",
        ")\n",
        "\n",
        "def server(input, output, session):\n",
        "    @reactive.Calc\n",
        "    def url():\n",
        "        return f\"https://public.opendatasoft.com/api/explore/v2.1/catalog/datasets/donnees-synop-essentielles-omm/records?select={input.selection()}\"\n",
        "\n",
        "    @reactive.Calc\n",
        "    def data():\n",
        "        response = requests.get(url()).json()\n",
        "        return response\n",
        "\n",
        "    @output\n",
        "    @render.text\n",
        "    async def info():\n",
        "        if input.selection() == \"\":\n",
        "            return \"\"\n",
        "        else:\n",
        "            data_str = pformat(data())\n",
        "            return f\"Request URL: {url()}\\nResult type: {type(data())}\\n{data_str}\"\n",
        "\n",
        "app = App(app_ui, server)"
      ]
    }
  ],
  "metadata": {
    "kernelspec": {
      "name": "python3",
      "language": "python",
      "display_name": "Python 3 (ipykernel)"
    }
  },
  "nbformat": 4,
  "nbformat_minor": 4
}