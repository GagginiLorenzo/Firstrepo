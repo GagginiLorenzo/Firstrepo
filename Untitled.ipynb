{
 "cells": [
  {
   "cell_type": "code",
   "execution_count": 55,
   "id": "a03ff455-2d36-4842-9c81-07ba6d871994",
   "metadata": {},
   "outputs": [],
   "source": [
    "#MODULE qui communique à l'API EXPLORE de synop pour récupéré les données souhaité donnée par l'utilisateur\n",
    "#input :récupéré par un saisie écrite pour le moment, facilement modifiable\n",
    "#sortie : python dict,le plus malléable pour exploiter la donnée en python"
   ]
  },
  {
   "cell_type": "code",
   "execution_count": 56,
   "id": "9e2c545f-a540-4165-91ed-42cc28dceedf",
   "metadata": {},
   "outputs": [],
   "source": [
    "import urllib\n",
    "import json"
   ]
  },
  {
   "cell_type": "code",
   "execution_count": 57,
   "id": "f969bb65-2967-435e-8c9a-7e5ba05eb89d",
   "metadata": {},
   "outputs": [],
   "source": [
    "#point d'entrer a la base de donnée \"donnees-synop-essentielles-omm\"\n",
    "url=\"https://public.opendatasoft.com/api/explore/v2.1/catalog/datasets/donnees-synop-essentielles-omm/records?\""
   ]
  },
  {
   "cell_type": "code",
   "execution_count": 58,
   "id": "5768c8ce-e3d1-46d9-a5f0-163c7ba60a7e",
   "metadata": {},
   "outputs": [],
   "source": [
    "class HTTPSrequest_fetch :\n",
    "    def __init__(self):\n",
    "        self.selection=input(\"selection\")\n",
    "        self.condition=input(\"condition\")\n",
    "        self.url=url+'select='+self.selection+'&where='+self.condition+'&limit=5'+'&refine=nom_reg:'\"Occitanie\"''\n",
    "    def get_data(self):\n",
    "        with urllib.request.urlopen(self.url) as response:\n",
    "            data = response.read()\n",
    "        return json.loads(data.decode())"
   ]
  },
  {
   "cell_type": "code",
   "execution_count": 59,
   "id": "5c1b0364-8757-4161-ac10-7645f94b13c7",
   "metadata": {},
   "outputs": [
    {
     "data": {
      "text/plain": [
       "\"\\ncréation d'une python class dont chaque instance est la construction de la requête https souhaité\\net dont on peut exploité les donnée vias une methode de la class : get_data.\\ncette construction permet de concidéré chaque requête de l'uilisateur comme l'ouverture d'une instance de la class\\nqui peut étre manipuler d'un seul block par le reste du code\\n\""
      ]
     },
     "execution_count": 59,
     "metadata": {},
     "output_type": "execute_result"
    }
   ],
   "source": [
    "'''\n",
    "création d'une python class dont chaque instance est la construction de la requête https souhaité\n",
    "et dont on peut exploité les donnée vias une methode de la class : get_data.\n",
    "cette construction permet de concidéré chaque requête de l'uilisateur comme l'ouverture d'une instance de la class\n",
    "qui peut étre manipuler d'un seul block par le reste du code\n",
    "'''"
   ]
  },
  {
   "cell_type": "code",
   "execution_count": 60,
   "id": "047a4c28-c1aa-4fab-9db4-efa3938f766c",
   "metadata": {},
   "outputs": [
    {
     "name": "stdin",
     "output_type": "stream",
     "text": [
      "selection nom,pres\n",
      "condition code_reg=76\n"
     ]
    }
   ],
   "source": [
    "#exemples d'instance\n",
    "#selection : nom,pres \n",
    "#condition : code_reg76\n",
    "instance=HTTPSrequest_fetch()"
   ]
  },
  {
   "cell_type": "code",
   "execution_count": 61,
   "id": "f6996586-2bb7-4b5a-a17e-fe6e4ef4b498",
   "metadata": {},
   "outputs": [
    {
     "data": {
      "text/plain": [
       "{'total_count': 281181,\n",
       " 'results': [{'nom': 'MILLAU', 'pres': 93360.0},\n",
       "  {'nom': 'MILLAU', 'pres': 93320.0},\n",
       "  {'nom': 'TARBES-OSSUN', 'pres': 96980.0},\n",
       "  {'nom': 'TARBES-OSSUN', 'pres': 96310.0},\n",
       "  {'nom': 'TOULOUSE-BLAGNAC', 'pres': 98770.0}]}"
      ]
     },
     "execution_count": 61,
     "metadata": {},
     "output_type": "execute_result"
    }
   ],
   "source": [
    "fetch.get_data()"
   ]
  },
  {
   "cell_type": "code",
   "execution_count": null,
   "id": "993f2f04-bd11-410c-a310-69773f7390e3",
   "metadata": {},
   "outputs": [],
   "source": []
  }
 ],
 "metadata": {
  "kernelspec": {
   "display_name": "Python 3 (ipykernel)",
   "language": "python",
   "name": "python3"
  },
  "language_info": {
   "codemirror_mode": {
    "name": "ipython",
    "version": 3
   },
   "file_extension": ".py",
   "mimetype": "text/x-python",
   "name": "python",
   "nbconvert_exporter": "python",
   "pygments_lexer": "ipython3",
   "version": "3.11.5"
  }
 },
 "nbformat": 4,
 "nbformat_minor": 5
}
