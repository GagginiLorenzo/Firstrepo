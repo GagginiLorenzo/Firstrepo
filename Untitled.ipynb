{
 "cells": [
  {
   "cell_type": "code",
   "execution_count": 53,
   "id": "8b256d70",
   "metadata": {},
   "outputs": [],
   "source": [
    "#MODULE qui communique à l'API EXPLORE de synop pour récupéré les données souhaité donnée par l'utilisateur\n",
    "#input :récupéré par un saisie écrite pour le moment, facilement modifiable\n",
    "#sortie : python dict,le plus malléable pour exploiter la donnée en python"
   ]
  },
  {
   "cell_type": "code",
   "execution_count": 60,
   "id": "a81f09f7",
   "metadata": {},
   "outputs": [],
   "source": [
    "import urllib\n",
    "import json"
   ]
  },
  {
   "cell_type": "code",
   "execution_count": 61,
   "id": "ea725471",
   "metadata": {},
   "outputs": [],
   "source": [
    "#point d'entrer a la base de donnée \"donnees-synop-essentielles-omm\"\n",
    "url=\"https://public.opendatasoft.com/api/explore/v2.1/catalog/datasets/donnees-synop-essentielles-omm/records?\""
   ]
  },
  {
   "cell_type": "code",
   "execution_count": 66,
   "id": "000f698e",
   "metadata": {},
   "outputs": [],
   "source": [
    "class HTTPSrequest_fetch :\n",
    "    def __init__(self):\n",
    "        self.selection=input(\"\")\n",
    "        self.condition=input(\"\")\n",
    "        self.url=url+'select='+self.selection+'&where='+self.condition+'&limit=5'+'&refine=nom_reg:'\"Occitanie\"''\n",
    "    def get_data(self):\n",
    "        with urllib.request.urlopen(self.url) as response:\n",
    "            data = response.read()\n",
    "        return json.loads(data.decode())"
   ]
  },
  {
   "cell_type": "code",
   "execution_count": 63,
   "id": "16f258c6",
   "metadata": {},
   "outputs": [
    {
     "data": {
      "text/plain": [
       "\"\\ncréation d'une python class dont chaque instance est la construction de la requête https souhaité\\net dont on peut exploité les donnée vias une methode de la class : get_data.\\ncette construction permet de concidéré chaque requête de l'uilisateur comme l'ouverture d'une instance de la class\\nqui peut étre manipuler d'un seul block par le reste du code\\n\""
      ]
     },
     "execution_count": 63,
     "metadata": {},
     "output_type": "execute_result"
    }
   ],
   "source": [
    "'''\n",
    "création d'une python class dont chaque instance est la construction de la requête https souhaité\n",
    "et dont on peut exploité les donnée vias une methode de la class : get_data.\n",
    "cette construction permet de concidéré chaque requête de l'uilisateur comme l'ouverture d'une instance de la class\n",
    "qui peut étre manipuler d'un seul block par le reste du code\n",
    "'''"
   ]
  },
  {
   "cell_type": "code",
   "execution_count": 67,
   "id": "2293bea4",
   "metadata": {},
   "outputs": [
    {
     "name": "stdin",
     "output_type": "stream",
     "text": [
      " nom\n",
      " code_reg=76\n"
     ]
    }
   ],
   "source": [
    "#exemples d'instance\n",
    "#selection : nom,pres \n",
    "#condition : code_reg76\n",
    "instance=HTTPSrequest_fetch()"
   ]
  },
  {
   "cell_type": "code",
   "execution_count": 68,
   "id": "2f138b7e",
   "metadata": {},
   "outputs": [
    {
     "data": {
      "text/plain": [
       "{'total_count': 212016,\n",
       " 'results': [{'nom': 'MILLAU'},\n",
       "  {'nom': 'MILLAU'},\n",
       "  {'nom': 'TARBES-OSSUN'},\n",
       "  {'nom': 'TARBES-OSSUN'},\n",
       "  {'nom': 'TOULOUSE-BLAGNAC'}]}"
      ]
     },
     "execution_count": 68,
     "metadata": {},
     "output_type": "execute_result"
    }
   ],
   "source": [
    "instance.get_data()"
   ]
  },
  {
   "cell_type": "markdown",
   "id": "996a445d",
   "metadata": {},
   "source": [
    "```\n"
   ]
  },
  {
   "cell_type": "code",
   "execution_count": null,
   "id": "e6cc1c89-adc2-45e7-b1e6-e69fea577e75",
   "metadata": {},
   "outputs": [],
   "source": []
  },
  {
   "cell_type": "code",
   "execution_count": null,
   "id": "acade679-5db8-4efc-bc09-ddd699678717",
   "metadata": {},
   "outputs": [],
   "source": []
  },
  {
   "cell_type": "code",
   "execution_count": null,
   "id": "f04c46c1-4801-4a28-b88a-4977426086c7",
   "metadata": {},
   "outputs": [],
   "source": []
  },
  {
   "cell_type": "code",
   "execution_count": null,
   "id": "f024c033-6fe5-48b9-bc7d-c52a1d465149",
   "metadata": {},
   "outputs": [],
   "source": []
  },
  {
   "cell_type": "code",
   "execution_count": null,
   "id": "8df47d93-57fc-49ec-bcfe-f418946c83e3",
   "metadata": {},
   "outputs": [],
   "source": []
  }
 ],
 "metadata": {
  "kernelspec": {
   "display_name": ".venv",
   "language": "python",
   "name": ".venv"
  },
  "language_info": {
   "codemirror_mode": {
    "name": "ipython",
    "version": 3
   },
   "file_extension": ".py",
   "mimetype": "text/x-python",
   "name": "python",
   "nbconvert_exporter": "python",
   "pygments_lexer": "ipython3",
   "version": "3.11.5"
  }
 },
 "nbformat": 4,
 "nbformat_minor": 5
}
