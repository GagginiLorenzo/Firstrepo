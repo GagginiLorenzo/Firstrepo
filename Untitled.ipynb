{
  "cells": [
    {
      "cell_type": "code",
      "metadata": {},
      "source": [
        "#MODULE qui communique à l'API EXPLORE de synop pour récupéré les données souhaité donnée par l'utilisateur\n",
        "#input :récupéré par un saisie écrite pour le moment, facilement modifiable\n",
        "#sortie : python dict,le plus malléable pour exploiter la donnée en python"
      ],
      "id": "331b3bcd",
      "execution_count": null,
      "outputs": []
    },
    {
      "cell_type": "code",
      "metadata": {},
      "source": [
        "import urllib\n",
        "import json"
      ],
      "id": "98ac7f46",
      "execution_count": null,
      "outputs": []
    },
    {
      "cell_type": "code",
      "metadata": {},
      "source": [
        "#point d'entrer a la base de donnée \"donnees-synop-essentielles-omm\"\n",
        "url=\"https://public.opendatasoft.com/api/explore/v2.1/catalog/datasets/donnees-synop-essentielles-omm/records?\""
      ],
      "id": "f7f0ebeb",
      "execution_count": null,
      "outputs": []
    },
    {
      "cell_type": "code",
      "metadata": {},
      "source": [
        "class HTTPSrequest_fetch :\n",
        "    def __init__(self):\n",
        "        self.selection=input(\"selection\")\n",
        "        self.condition=input(\"condition\")\n",
        "        self.url=url+'select='+self.selection+'&where='+self.condition+'&limit=5'+'&refine=nom_reg:'\"Occitanie\"''\n",
        "    def get_data(self):\n",
        "        with urllib.request.urlopen(self.url) as response:\n",
        "            data = response.read()\n",
        "        return json.loads(data.decode())"
      ],
      "id": "b01e9141",
      "execution_count": null,
      "outputs": []
    },
    {
      "cell_type": "code",
      "metadata": {},
      "source": [
        "'''\n",
        "création d'une python class dont chaque instance est la construction de la requête https souhaité\n",
        "et dont on peut exploité les donnée vias une methode de la class : get_data.\n",
        "cette construction permet de concidéré chaque requête de l'uilisateur comme l'ouverture d'une instance de la class\n",
        "qui peut étre manipuler d'un seul block par le reste du code\n",
        "'''"
      ],
      "id": "d352a17e",
      "execution_count": null,
      "outputs": []
    },
    {
      "cell_type": "code",
      "metadata": {},
      "source": [
        "#exemples d'instance\n",
        "#selection : nom,pres \n",
        "#condition : code_reg76\n",
        "instance=HTTPSrequest_fetch()"
      ],
      "id": "affe1bfe",
      "execution_count": null,
      "outputs": []
    },
    {
      "cell_type": "code",
      "metadata": {},
      "source": [
        "fetch.get_data()"
      ],
      "id": "cc722e45",
      "execution_count": null,
      "outputs": []
    }
  ],
  "metadata": {
    "kernelspec": {
      "name": "python3",
      "language": "python",
      "display_name": "Python 3 (ipykernel)"
    }
  },
  "nbformat": 4,
  "nbformat_minor": 5
}