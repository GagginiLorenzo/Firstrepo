{
 "cells": [
  {
   "cell_type": "code",
   "execution_count": 1,
   "id": "d65c3338-a830-41e2-8d0f-292a48c135fd",
   "metadata": {},
   "outputs": [],
   "source": [
    "from ipywidgets import interact, interactive, fixed, interact_manual\n",
    "import ipywidgets as widgets"
   ]
  },
  {
   "cell_type": "code",
   "execution_count": 2,
   "id": "e257a95b-d9fd-4117-9333-ac367692dae3",
   "metadata": {},
   "outputs": [],
   "source": [
    "def f(x):\n",
    "    return x"
   ]
  },
  {
   "cell_type": "code",
   "execution_count": 3,
   "id": "a376c31f-efe3-420a-8eba-ceea697a8d9e",
   "metadata": {},
   "outputs": [
    {
     "data": {
      "application/vnd.jupyter.widget-view+json": {
       "model_id": "a96cb16f01a04e85922a38eea9eb5877",
       "version_major": 2,
       "version_minor": 0
      },
      "text/plain": [
       "Text(value='nom,pres', description='String:', placeholder='Type something')"
      ]
     },
     "execution_count": 14,
     "metadata": {},
     "output_type": "execute_result"
    }
   ],
   "source": [
    "S=widgets.Text(\n",
    "    value='nom,pres',\n",
    "    placeholder='Type something',\n",
    "    description='String:',\n",
    "    disabled=False   \n",
    ")\n",
    "S"
   ]
  },
  {
   "cell_type": "code",
   "execution_count": 4,
   "id": "ebc8b6f2-cb27-4933-a4a8-3a72c64013f3",
   "metadata": {},
   "outputs": [
    {
     "data": {
      "application/vnd.jupyter.widget-view+json": {
       "model_id": "be08933fa15547488de3dbd4db4d0ddb",
       "version_major": 2,
       "version_minor": 0
      },
      "text/plain": [
       "Text(value='code_reg=76', description='String:', placeholder='Type something')"
      ]
     },
     "execution_count": 15,
     "metadata": {},
     "output_type": "execute_result"
    }
   ],
   "source": [
    "C=widgets.Text(\n",
    "    value='code_reg=76',\n",
    "    placeholder='Type something',\n",
    "    description='String:',\n",
    "    disabled=False   \n",
    ")\n",
    "C"
   ]
  },
  {
   "cell_type": "code",
   "execution_count": 5,
   "id": "8b256d70",
   "metadata": {},
   "outputs": [],
   "source": [
    "#MODULE qui communique à l'API EXPLORE de synop pour récupéré les données souhaité donnée par l'utilisateur\n",
    "#input :récupéré par un saisie écrite pour le moment, facilement modifiable\n",
    "#sortie : python dict,le plus malléable pour exploiter la donnée en python"
   ]
  },
  {
   "cell_type": "code",
   "execution_count": 6,
   "id": "a81f09f7",
   "metadata": {},
   "outputs": [],
   "source": [
    "import urllib\n",
    "import json"
   ]
  },
  {
   "cell_type": "code",
   "execution_count": 7,
   "id": "ea725471",
   "metadata": {},
   "outputs": [],
   "source": [
    "#point d'entrer a la base de donnée \"donnees-synop-essentielles-omm\"\n",
    "url=\"https://public.opendatasoft.com/api/explore/v2.1/catalog/datasets/donnees-synop-essentielles-omm/records?\""
   ]
  },
  {
   "cell_type": "code",
   "execution_count": 8,
   "id": "000f698e",
   "metadata": {},
   "outputs": [],
   "source": [
    "class HTTPSrequest_fetch :\n",
    "    def __init__(self):\n",
    "        self.selection=S.value\n",
    "        self.condition=C.value\n",
    "        self.url=url+'select='+self.selection+'&where='+self.condition+'&limit=5'+'&refine=nom_reg:'\"Occitanie\"''\n",
    "    def get_data(self):\n",
    "        with urllib.request.urlopen(self.url) as response:\n",
    "            data = response.read()\n",
    "        return json.loads(data.decode())"
   ]
  },
  {
   "cell_type": "code",
   "execution_count": 9,
   "id": "16f258c6",
   "metadata": {},
   "outputs": [
    {
     "data": {
      "text/plain": [
       "\"\\ncréation d'une python class dont chaque instance est la construction de la requête https souhaité\\net dont on peut exploité les donnée vias une methode de la class : get_data.\\ncette construction permet de concidéré chaque requête de l'uilisateur comme l'ouverture d'une instance de la class\\nqui peut étre manipuler d'un seul block par le reste du code\\n\""
      ]
     },
     "execution_count": 20,
     "metadata": {},
     "output_type": "execute_result"
    }
   ],
   "source": [
    "'''\n",
    "création d'une python class dont chaque instance est la construction de la requête https souhaité\n",
    "et dont on peut exploité les donnée vias une methode de la class : get_data.\n",
    "cette construction permet de concidéré chaque requête de l'uilisateur comme l'ouverture d'une instance de la class\n",
    "qui peut étre manipuler d'un seul block par le reste du code\n",
    "'''"
   ]
  },
  {
   "cell_type": "code",
   "execution_count": 10,
   "id": "2293bea4",
   "metadata": {},
   "outputs": [],
   "source": [
    "#exemples d'instance\n",
    "#selection : nom,pres \n",
    "#condition : code_reg76\n",
    "instance=HTTPSrequest_fetch()"
   ]
  },
  {
   "cell_type": "code",
   "execution_count": 11,
   "id": "2f138b7e",
   "metadata": {},
   "outputs": [
    {
     "data": {
      "text/plain": [
       "{'total_count': 181982,\n",
       " 'results': [{'nom': 'MILLAU', 'pres': 93360.0},\n",
       "  {'nom': 'MILLAU', 'pres': 93320.0},\n",
       "  {'nom': 'TARBES-OSSUN', 'pres': 96980.0},\n",
       "  {'nom': 'TARBES-OSSUN', 'pres': 96310.0},\n",
       "  {'nom': 'TOULOUSE-BLAGNAC', 'pres': 98770.0}]}"
      ]
     },
     "execution_count": 22,
     "metadata": {},
     "output_type": "execute_result"
    }
   ],
   "source": [
    "instance.get_data()"
   ]
  },
  {
   "cell_type": "markdown",
   "id": "996a445d",
   "metadata": {},
   "source": [
    "```\n"
   ]
  }
 ],
 "metadata": {
  "kernelspec": {
   "display_name": ".venv",
   "language": "python",
   "name": ".venv"
  },
  "language_info": {
   "codemirror_mode": {
    "name": "ipython",
    "version": 3
   },
   "file_extension": ".py",
   "mimetype": "text/x-python",
   "name": "python",
   "nbconvert_exporter": "python",
   "pygments_lexer": "ipython3",
   "version": "3.11.5"
  },
  "widgets": {
   "application/vnd.jupyter.widget-state+json": {
    "state": {
     "013ee7f653214563879cdc8cb1de0eb9": {
      "model_module": "@jupyter-widgets/base",
      "model_module_version": "2.0.0",
      "model_name": "LayoutModel",
      "state": {
       "_model_module": "@jupyter-widgets/base",
       "_model_module_version": "2.0.0",
       "_model_name": "LayoutModel",
       "_view_count": null,
       "_view_module": "@jupyter-widgets/base",
       "_view_module_version": "2.0.0",
       "_view_name": "LayoutView",
       "align_content": null,
       "align_items": null,
       "align_self": null,
       "border_bottom": null,
       "border_left": null,
       "border_right": null,
       "border_top": null,
       "bottom": null,
       "display": null,
       "flex": null,
       "flex_flow": null,
       "grid_area": null,
       "grid_auto_columns": null,
       "grid_auto_flow": null,
       "grid_auto_rows": null,
       "grid_column": null,
       "grid_gap": null,
       "grid_row": null,
       "grid_template_areas": null,
       "grid_template_columns": null,
       "grid_template_rows": null,
       "height": null,
       "justify_content": null,
       "justify_items": null,
       "left": null,
       "margin": null,
       "max_height": null,
       "max_width": null,
       "min_height": null,
       "min_width": null,
       "object_fit": null,
       "object_position": null,
       "order": null,
       "overflow": null,
       "padding": null,
       "right": null,
       "top": null,
       "visibility": null,
       "width": null
      }
     },
     "18a4834ba9b342958485022871d8e349": {
      "model_module": "@jupyter-widgets/controls",
      "model_module_version": "2.0.0",
      "model_name": "TextStyleModel",
      "state": {
       "_model_module": "@jupyter-widgets/controls",
       "_model_module_version": "2.0.0",
       "_model_name": "TextStyleModel",
       "_view_count": null,
       "_view_module": "@jupyter-widgets/base",
       "_view_module_version": "2.0.0",
       "_view_name": "StyleView",
       "background": null,
       "description_width": "",
       "font_size": null,
       "text_color": null
      }
     },
     "2da0b82f768e41a4a3aef7df915fb879": {
      "model_module": "@jupyter-widgets/base",
      "model_module_version": "2.0.0",
      "model_name": "LayoutModel",
      "state": {
       "_model_module": "@jupyter-widgets/base",
       "_model_module_version": "2.0.0",
       "_model_name": "LayoutModel",
       "_view_count": null,
       "_view_module": "@jupyter-widgets/base",
       "_view_module_version": "2.0.0",
       "_view_name": "LayoutView",
       "align_content": null,
       "align_items": null,
       "align_self": null,
       "border_bottom": null,
       "border_left": null,
       "border_right": null,
       "border_top": null,
       "bottom": null,
       "display": null,
       "flex": null,
       "flex_flow": null,
       "grid_area": null,
       "grid_auto_columns": null,
       "grid_auto_flow": null,
       "grid_auto_rows": null,
       "grid_column": null,
       "grid_gap": null,
       "grid_row": null,
       "grid_template_areas": null,
       "grid_template_columns": null,
       "grid_template_rows": null,
       "height": null,
       "justify_content": null,
       "justify_items": null,
       "left": null,
       "margin": null,
       "max_height": null,
       "max_width": null,
       "min_height": null,
       "min_width": null,
       "object_fit": null,
       "object_position": null,
       "order": null,
       "overflow": null,
       "padding": null,
       "right": null,
       "top": null,
       "visibility": null,
       "width": null
      }
     },
     "6f742f0a204b4875b98987fdc1c32b4d": {
      "model_module": "@jupyter-widgets/controls",
      "model_module_version": "2.0.0",
      "model_name": "TextModel",
      "state": {
       "_dom_classes": [],
       "_model_module": "@jupyter-widgets/controls",
       "_model_module_version": "2.0.0",
       "_model_name": "TextModel",
       "_view_count": null,
       "_view_module": "@jupyter-widgets/controls",
       "_view_module_version": "2.0.0",
       "_view_name": "TextView",
       "continuous_update": true,
       "description": "String:",
       "description_allow_html": false,
       "disabled": false,
       "layout": "IPY_MODEL_013ee7f653214563879cdc8cb1de0eb9",
       "placeholder": "Type something",
       "style": "IPY_MODEL_c57e978909d34b6784c0cfb712270560",
       "tabbable": null,
       "tooltip": null,
       "value": "nom,pres"
      }
     },
     "80f2b551c39949c8bd016bd5ac078715": {
      "model_module": "@jupyter-widgets/base",
      "model_module_version": "2.0.0",
      "model_name": "LayoutModel",
      "state": {
       "_model_module": "@jupyter-widgets/base",
       "_model_module_version": "2.0.0",
       "_model_name": "LayoutModel",
       "_view_count": null,
       "_view_module": "@jupyter-widgets/base",
       "_view_module_version": "2.0.0",
       "_view_name": "LayoutView",
       "align_content": null,
       "align_items": null,
       "align_self": null,
       "border_bottom": null,
       "border_left": null,
       "border_right": null,
       "border_top": null,
       "bottom": null,
       "display": null,
       "flex": null,
       "flex_flow": null,
       "grid_area": null,
       "grid_auto_columns": null,
       "grid_auto_flow": null,
       "grid_auto_rows": null,
       "grid_column": null,
       "grid_gap": null,
       "grid_row": null,
       "grid_template_areas": null,
       "grid_template_columns": null,
       "grid_template_rows": null,
       "height": null,
       "justify_content": null,
       "justify_items": null,
       "left": null,
       "margin": null,
       "max_height": null,
       "max_width": null,
       "min_height": null,
       "min_width": null,
       "object_fit": null,
       "object_position": null,
       "order": null,
       "overflow": null,
       "padding": null,
       "right": null,
       "top": null,
       "visibility": null,
       "width": null
      }
     },
     "9846c774689349a3acd046a0fe1c2ce3": {
      "model_module": "@jupyter-widgets/controls",
      "model_module_version": "2.0.0",
      "model_name": "TextModel",
      "state": {
       "_dom_classes": [],
       "_model_module": "@jupyter-widgets/controls",
       "_model_module_version": "2.0.0",
       "_model_name": "TextModel",
       "_view_count": null,
       "_view_module": "@jupyter-widgets/controls",
       "_view_module_version": "2.0.0",
       "_view_name": "TextView",
       "continuous_update": true,
       "description": "String:",
       "description_allow_html": false,
       "disabled": false,
       "layout": "IPY_MODEL_aca8bf328f204245a6708a039ace84af",
       "placeholder": "Type something",
       "style": "IPY_MODEL_a79e644afb494c5cae3c43615e261404",
       "tabbable": null,
       "tooltip": null,
       "value": "code_reg=76"
      }
     },
     "a79e644afb494c5cae3c43615e261404": {
      "model_module": "@jupyter-widgets/controls",
      "model_module_version": "2.0.0",
      "model_name": "TextStyleModel",
      "state": {
       "_model_module": "@jupyter-widgets/controls",
       "_model_module_version": "2.0.0",
       "_model_name": "TextStyleModel",
       "_view_count": null,
       "_view_module": "@jupyter-widgets/base",
       "_view_module_version": "2.0.0",
       "_view_name": "StyleView",
       "background": null,
       "description_width": "",
       "font_size": null,
       "text_color": null
      }
     },
     "a96cb16f01a04e85922a38eea9eb5877": {
      "model_module": "@jupyter-widgets/controls",
      "model_module_version": "2.0.0",
      "model_name": "TextModel",
      "state": {
       "_dom_classes": [],
       "_model_module": "@jupyter-widgets/controls",
       "_model_module_version": "2.0.0",
       "_model_name": "TextModel",
       "_view_count": null,
       "_view_module": "@jupyter-widgets/controls",
       "_view_module_version": "2.0.0",
       "_view_name": "TextView",
       "continuous_update": true,
       "description": "String:",
       "description_allow_html": false,
       "disabled": false,
       "layout": "IPY_MODEL_2da0b82f768e41a4a3aef7df915fb879",
       "placeholder": "Type something",
       "style": "IPY_MODEL_abdae0f62de948e4b7f5ee579f2e1e30",
       "tabbable": null,
       "tooltip": null,
       "value": "nom,pres"
      }
     },
     "abdae0f62de948e4b7f5ee579f2e1e30": {
      "model_module": "@jupyter-widgets/controls",
      "model_module_version": "2.0.0",
      "model_name": "TextStyleModel",
      "state": {
       "_model_module": "@jupyter-widgets/controls",
       "_model_module_version": "2.0.0",
       "_model_name": "TextStyleModel",
       "_view_count": null,
       "_view_module": "@jupyter-widgets/base",
       "_view_module_version": "2.0.0",
       "_view_name": "StyleView",
       "background": null,
       "description_width": "",
       "font_size": null,
       "text_color": null
      }
     },
     "aca8bf328f204245a6708a039ace84af": {
      "model_module": "@jupyter-widgets/base",
      "model_module_version": "2.0.0",
      "model_name": "LayoutModel",
      "state": {
       "_model_module": "@jupyter-widgets/base",
       "_model_module_version": "2.0.0",
       "_model_name": "LayoutModel",
       "_view_count": null,
       "_view_module": "@jupyter-widgets/base",
       "_view_module_version": "2.0.0",
       "_view_name": "LayoutView",
       "align_content": null,
       "align_items": null,
       "align_self": null,
       "border_bottom": null,
       "border_left": null,
       "border_right": null,
       "border_top": null,
       "bottom": null,
       "display": null,
       "flex": null,
       "flex_flow": null,
       "grid_area": null,
       "grid_auto_columns": null,
       "grid_auto_flow": null,
       "grid_auto_rows": null,
       "grid_column": null,
       "grid_gap": null,
       "grid_row": null,
       "grid_template_areas": null,
       "grid_template_columns": null,
       "grid_template_rows": null,
       "height": null,
       "justify_content": null,
       "justify_items": null,
       "left": null,
       "margin": null,
       "max_height": null,
       "max_width": null,
       "min_height": null,
       "min_width": null,
       "object_fit": null,
       "object_position": null,
       "order": null,
       "overflow": null,
       "padding": null,
       "right": null,
       "top": null,
       "visibility": null,
       "width": null
      }
     },
     "be08933fa15547488de3dbd4db4d0ddb": {
      "model_module": "@jupyter-widgets/controls",
      "model_module_version": "2.0.0",
      "model_name": "TextModel",
      "state": {
       "_dom_classes": [],
       "_model_module": "@jupyter-widgets/controls",
       "_model_module_version": "2.0.0",
       "_model_name": "TextModel",
       "_view_count": null,
       "_view_module": "@jupyter-widgets/controls",
       "_view_module_version": "2.0.0",
       "_view_name": "TextView",
       "continuous_update": true,
       "description": "String:",
       "description_allow_html": false,
       "disabled": false,
       "layout": "IPY_MODEL_80f2b551c39949c8bd016bd5ac078715",
       "placeholder": "Type something",
       "style": "IPY_MODEL_18a4834ba9b342958485022871d8e349",
       "tabbable": null,
       "tooltip": null,
       "value": "code_reg=76"
      }
     },
     "c57e978909d34b6784c0cfb712270560": {
      "model_module": "@jupyter-widgets/controls",
      "model_module_version": "2.0.0",
      "model_name": "TextStyleModel",
      "state": {
       "_model_module": "@jupyter-widgets/controls",
       "_model_module_version": "2.0.0",
       "_model_name": "TextStyleModel",
       "_view_count": null,
       "_view_module": "@jupyter-widgets/base",
       "_view_module_version": "2.0.0",
       "_view_name": "StyleView",
       "background": null,
       "description_width": "",
       "font_size": null,
       "text_color": null
      }
     }
    },
    "version_major": 2,
    "version_minor": 0
   }
  }
 },
 "nbformat": 4,
 "nbformat_minor": 5
}
